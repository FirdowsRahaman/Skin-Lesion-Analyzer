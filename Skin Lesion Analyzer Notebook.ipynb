{
 "cells": [
  {
   "cell_type": "markdown",
   "metadata": {
    "id": "lgrcuuzVGaLW"
   },
   "source": [
    "# **Skin Lesion Analyzer with Deep Learning**\n",
    "\n"
   ]
  },
  {
   "cell_type": "markdown",
   "metadata": {
    "id": "db_PbKHnGk_W"
   },
   "source": [
    "### **Outline**\n",
    "Use these links to jump to specific sections of this project.\n",
    "\n",
    "1. Import Packages\n",
    "2. Load and Transform the Dataset\n",
    "3. Model Development\n",
    "4. Model Training \n",
    "5. Prediction and Evaluation"
   ]
  },
  {
   "cell_type": "markdown",
   "metadata": {
    "id": "QJASNPYoGqEC"
   },
   "source": [
    "### 1. Import Packages"
   ]
  },
  {
   "cell_type": "code",
   "execution_count": 6,
   "metadata": {
    "id": "WtehVJqeF3IA"
   },
   "outputs": [],
   "source": [
    "import os\n",
    "import glob\n",
    "import itertools\n",
    "import numpy as np\n",
    "import pandas as pd\n",
    "import matplotlib.pyplot as plt\n",
    "\n",
    "import tensorflow as tf\n",
    "from tensorflow import keras\n",
    "from tensorflow.keras import layers\n",
    "from tensorflow.keras.utils import to_categorical\n",
    "from tensorflow.keras.applications import DenseNet121\n",
    "\n",
    "from sklearn.metrics import confusion_matrix\n",
    "from sklearn.model_selection import train_test_split"
   ]
  },
  {
   "cell_type": "markdown",
   "metadata": {
    "id": "K12pbUd1GyDh"
   },
   "source": [
    "### 2. Load and Transform the Dataset"
   ]
  },
  {
   "cell_type": "code",
   "execution_count": 7,
   "metadata": {
    "id": "HJtUDxVJGziT"
   },
   "outputs": [],
   "source": [
    "AUTOTUNE = tf.data.experimental.AUTOTUNE\n",
    "\n",
    "\n",
    "class DatasetBuilder():\n",
    "    def __init__(self, base_dir, csv_file):\n",
    "        self.base_dir = base_dir\n",
    "        self.csv_file = csv_file\n",
    "        \n",
    "    def transform_df(self, base_dir, csv_file):\n",
    "        df = pd.read_csv(csv_file)\n",
    "        image_path_dict = {os.path.splitext(os.path.basename(x))[0]: x \n",
    "                       for x in glob.glob(os.path.join(base_dir, '*', '*.jpg'))}\n",
    "        label_dict = {'akiec': 0, 'bcc': 1, 'bkl': 2, 'df': 3,\n",
    "                      'mel': 4, 'nv': 5, 'vasc': 6}\n",
    "        df['image_path'] = df['image_id'].map(image_path_dict.get)\n",
    "        df['label_id'] = df['dx'].map(label_dict.get)\n",
    "        return df\n",
    "    \n",
    "    def split_df(self):\n",
    "        dataframe = self.transform_df(self.base_dir, self.csv_file)\n",
    "        train_df, val_df = train_test_split(dataframe, test_size=0.15)\n",
    "        train_df, test_df = train_test_split(train_df, test_size=0.10)\n",
    "        return train_df, val_df, test_df\n",
    "    \n",
    "    def get_labels(self, dataframe):\n",
    "        label_list = dataframe.label_id.values\n",
    "        labels = to_categorical(label_list, num_classes=7)\n",
    "        return labels\n",
    "    \n",
    "    def decode_image(self, filename, label=None, image_size=(224, 224)):\n",
    "        bits = tf.io.read_file(filename)\n",
    "        image = tf.image.decode_jpeg(bits, channels=3)\n",
    "        image = tf.image.convert_image_dtype(image, tf.float32)\n",
    "        image = tf.image.resize(image, image_size)\n",
    "        return image, label\n",
    "    \n",
    "    def input_fn(self, dataframe, batch_size=32, mode=None):\n",
    "        image_list = dataframe.image_path.values\n",
    "        labels = self.get_labels(dataframe)\n",
    "        ds = (tf.data.Dataset     \n",
    "                .from_tensor_slices((image_list, labels))\n",
    "                .map(self.decode_image, num_parallel_calls=AUTOTUNE)\n",
    "                .cache()\n",
    "                .repeat()\n",
    "                .shuffle(buffer_size = 10 * batch_size)\n",
    "                .batch(batch_size)\n",
    "                .prefetch(AUTOTUNE))\n",
    "        return ds\n",
    "\n",
    "    def create_dataset(self):\n",
    "        train_df, val_df, test_df = self.split_df()\n",
    "        train_ds = self.input_fn(train_df)\n",
    "        val_ds = self.input_fn(val_df)\n",
    "        return train_ds, val_ds"
   ]
  },
  {
   "cell_type": "markdown",
   "metadata": {
    "id": "CQHBuDloG2A7"
   },
   "source": [
    "### 3. Model Development"
   ]
  },
  {
   "cell_type": "code",
   "execution_count": 8,
   "metadata": {
    "colab": {
     "base_uri": "https://localhost:8080/"
    },
    "id": "ho31hrigG4ro",
    "outputId": "4aa14b96-d4ca-4c49-985e-3435e878be7d"
   },
   "outputs": [
    {
     "name": "stdout",
     "output_type": "stream",
     "text": [
      "Downloading data from https://storage.googleapis.com/tensorflow/keras-applications/densenet/densenet121_weights_tf_dim_ordering_tf_kernels_notop.h5\n",
      "29089792/29084464 [==============================] - 1s 0us/step\n"
     ]
    }
   ],
   "source": [
    "image_shape = (224, 224, 3)\n",
    "base_learning_rate = 0.0001\n",
    "\n",
    "base_model = DenseNet121(input_shape=image_shape, \n",
    "                         include_top=False,\n",
    "                         weights='imagenet')\n",
    "base_model.trainable = True\n",
    "\n",
    "image_input = keras.Input(shape=image_shape)\n",
    "x = base_model(image_input)\n",
    "x = layers.GlobalAveragePooling2D()(x)\n",
    "x = layers.Dense(7, activation='softmax')(x)\n",
    "model = keras.Model(inputs=image_input, outputs=x)\n",
    "\n",
    "model.compile(optimizer=keras.optimizers.Adam(lr=base_learning_rate/10),\n",
    "                loss=keras.losses.CategoricalCrossentropy(),\n",
    "                metrics=['accuracy'])"
   ]
  },
  {
   "cell_type": "markdown",
   "metadata": {
    "id": "E1VQkGqiG9md"
   },
   "source": [
    "### 4. Model Training"
   ]
  },
  {
   "cell_type": "code",
   "execution_count": 9,
   "metadata": {
    "id": "tyb4rLK8G-ph"
   },
   "outputs": [],
   "source": [
    "def train_and_evaluate(params):\n",
    "    csv_file = params['csv_file']\n",
    "    base_dir = params['base_dir']\n",
    "    batch_size = params['batch_size']\n",
    "    num_epochs = params['num_epochs']\n",
    "    train_steps = params['train_steps']\n",
    "    val_steps = params['val_steps']\n",
    "\n",
    "    builder = DatasetBuilder(base_dir, csv_file)\n",
    "    train_ds, val_ds = builder.create_dataset()\n",
    "    \n",
    "    history = model.fit(train_ds,\n",
    "                        batch_size=batch_size,\n",
    "                        epochs=num_epochs,\n",
    "                        validation_data=val_ds,\n",
    "                        steps_per_epoch=train_steps,\n",
    "                        validation_steps=val_steps)\n",
    "    return history"
   ]
  },
  {
   "cell_type": "code",
   "execution_count": 10,
   "metadata": {
    "id": "7HAvJha3HAos"
   },
   "outputs": [],
   "source": [
    "params = {\n",
    "    'csv_file': '../input/skin-cancer-mnist-ham10000/HAM10000_metadata.csv',\n",
    "    'base_dir': '../input/skin-cancer-mnist-ham10000',\n",
    "    'batch_size': 32,\n",
    "    'num_epochs': 10,\n",
    "    'train_steps': 239,\n",
    "    'val_steps': 46\n",
    "}"
   ]
  },
  {
   "cell_type": "code",
   "execution_count": 11,
   "metadata": {
    "colab": {
     "base_uri": "https://localhost:8080/"
    },
    "id": "5PTpz3JtHF-N",
    "outputId": "42a9e29e-f1ff-4ecd-9a6b-24edc7586cb4"
   },
   "outputs": [
    {
     "name": "stdout",
     "output_type": "stream",
     "text": [
      "Epoch 1/10\n",
      "239/239 [==============================] - 185s 772ms/step - loss: 1.6331 - accuracy: 0.5669 - val_loss: 1.6347 - val_accuracy: 0.6304\n",
      "Epoch 2/10\n",
      "239/239 [==============================] - 177s 739ms/step - loss: 1.4587 - accuracy: 0.7202 - val_loss: 1.4382 - val_accuracy: 0.7480\n",
      "Epoch 3/10\n",
      "239/239 [==============================] - 177s 739ms/step - loss: 1.4148 - accuracy: 0.7646 - val_loss: 1.3966 - val_accuracy: 0.7806\n",
      "Epoch 4/10\n",
      "239/239 [==============================] - 177s 739ms/step - loss: 1.3779 - accuracy: 0.8027 - val_loss: 1.3862 - val_accuracy: 0.7806\n",
      "Epoch 5/10\n",
      "239/239 [==============================] - 177s 739ms/step - loss: 1.3479 - accuracy: 0.8321 - val_loss: 1.3608 - val_accuracy: 0.8145\n",
      "Epoch 6/10\n",
      "239/239 [==============================] - 176s 738ms/step - loss: 1.3251 - accuracy: 0.8543 - val_loss: 1.3642 - val_accuracy: 0.8010\n",
      "Epoch 7/10\n",
      "239/239 [==============================] - 176s 738ms/step - loss: 1.3032 - accuracy: 0.8774 - val_loss: 1.3481 - val_accuracy: 0.8261\n",
      "Epoch 8/10\n",
      "239/239 [==============================] - 176s 738ms/step - loss: 1.2849 - accuracy: 0.8937 - val_loss: 1.3393 - val_accuracy: 0.8383\n",
      "Epoch 9/10\n",
      "239/239 [==============================] - 176s 738ms/step - loss: 1.2677 - accuracy: 0.9117 - val_loss: 1.3286 - val_accuracy: 0.8444\n",
      "Epoch 10/10\n",
      "239/239 [==============================] - 176s 738ms/step - loss: 1.2573 - accuracy: 0.9204 - val_loss: 1.3309 - val_accuracy: 0.8424\n"
     ]
    },
    {
     "data": {
      "text/plain": [
       "<tensorflow.python.keras.callbacks.History at 0x7fc2e2ed1390>"
      ]
     },
     "execution_count": 11,
     "metadata": {
      "tags": []
     },
     "output_type": "execute_result"
    }
   ],
   "source": [
    "train_and_evaluate(params)"
   ]
  },
  {
   "cell_type": "code",
   "execution_count": 36,
   "metadata": {
    "colab": {
     "base_uri": "https://localhost:8080/"
    },
    "id": "6regTM6bHLnM",
    "outputId": "f7419aff-c193-4530-ecaf-945de558de7d"
   },
   "outputs": [
    {
     "name": "stdout",
     "output_type": "stream",
     "text": [
      "WARNING:tensorflow:From /usr/local/lib/python3.6/dist-packages/tensorflow/python/training/tracking/tracking.py:111: Model.state_updates (from tensorflow.python.keras.engine.training) is deprecated and will be removed in a future version.\n",
      "Instructions for updating:\n",
      "This property should not be used in TensorFlow 2.0, as updates are applied automatically.\n",
      "WARNING:tensorflow:From /usr/local/lib/python3.6/dist-packages/tensorflow/python/training/tracking/tracking.py:111: Layer.updates (from tensorflow.python.keras.engine.base_layer) is deprecated and will be removed in a future version.\n",
      "Instructions for updating:\n",
      "This property should not be used in TensorFlow 2.0, as updates are applied automatically.\n",
      "INFO:tensorflow:Assets written to: /content/saved_model/assets\n"
     ]
    }
   ],
   "source": [
    "model_export_path = '/content/saved_model'\n",
    "tf.saved_model.save(model, model_export_path)"
   ]
  },
  {
   "cell_type": "markdown",
   "metadata": {
    "id": "7dGVr-EIHSQ0"
   },
   "source": [
    "### 5. Prediction and Evaluation "
   ]
  },
  {
   "cell_type": "code",
   "execution_count": 12,
   "metadata": {
    "id": "BVo_pLF5HUo3"
   },
   "outputs": [],
   "source": [
    "def preprocess_input(params):\n",
    "    csv_file = params['csv_file']\n",
    "    base_dir = params['base_dir']\n",
    "    \n",
    "    builder = DatasetBuilder(base_dir, csv_file)\n",
    "    _, _, test_df = builder.split_df()\n",
    "    image_list = test_df.image_path.values\n",
    "    \n",
    "    image = []\n",
    "    for img in image_list:\n",
    "        img2array, _ = builder.decode_image(img)\n",
    "        img_batch = np.expand_dims(img2array, axis=0)\n",
    "        image.append(img_batch)\n",
    "    \n",
    "    labels = builder.get_labels(test_df)\n",
    "    images = np.vstack(image)\n",
    "    return images, labels"
   ]
  },
  {
   "cell_type": "code",
   "execution_count": 13,
   "metadata": {
    "id": "QX_pORiVHW2S"
   },
   "outputs": [],
   "source": [
    "test_images, test_labels = preprocess_input(params)"
   ]
  },
  {
   "cell_type": "code",
   "execution_count": 14,
   "metadata": {
    "id": "3UoZe27jHgAq"
   },
   "outputs": [],
   "source": [
    "predictions = model.predict(test_images)"
   ]
  },
  {
   "cell_type": "code",
   "execution_count": 15,
   "metadata": {
    "id": "FLZTngbdHhxt"
   },
   "outputs": [],
   "source": [
    "y_true = tf.argmax(test_labels, axis=-1)\n",
    "y_pred = tf.argmax(predictions, axis=-1)"
   ]
  },
  {
   "cell_type": "code",
   "execution_count": 19,
   "metadata": {
    "id": "T1bhK2tPHmAa"
   },
   "outputs": [],
   "source": [
    "confusion_mtx = confusion_matrix(y_true, y_pred)"
   ]
  },
  {
   "cell_type": "code",
   "execution_count": 20,
   "metadata": {
    "id": "8rTTOmqGHn8U"
   },
   "outputs": [],
   "source": [
    "def plot_confusion_matrix(cm, classes,\n",
    "                          normalize=False,\n",
    "                          title='Confusion matrix',\n",
    "                          cmap=plt.cm.Blues):\n",
    "    \"\"\"\n",
    "    This function prints and plots the confusion matrix.\n",
    "    Normalization can be applied by setting `normalize=True`.\n",
    "    \"\"\"\n",
    "    plt.imshow(cm, interpolation='nearest', cmap=cmap)\n",
    "    plt.title(title)\n",
    "    plt.colorbar()\n",
    "    tick_marks = np.arange(len(classes))\n",
    "    plt.xticks(tick_marks, classes, rotation=45)\n",
    "    plt.yticks(tick_marks, classes)\n",
    "\n",
    "    if normalize:\n",
    "        cm = cm.astype('float') / cm.sum(axis=1)[:, np.newaxis]\n",
    "\n",
    "    thresh = cm.max() / 2.\n",
    "    for i, j in itertools.product(range(cm.shape[0]), range(cm.shape[1])):\n",
    "        plt.text(j, i, cm[i, j],\n",
    "                 horizontalalignment=\"center\",\n",
    "                 color=\"white\" if cm[i, j] > thresh else \"black\")\n",
    "\n",
    "    plt.tight_layout()\n",
    "    plt.ylabel('True label')\n",
    "    plt.xlabel('Predicted label')"
   ]
  },
  {
   "cell_type": "code",
   "execution_count": 21,
   "metadata": {
    "colab": {
     "base_uri": "https://localhost:8080/",
     "height": 311
    },
    "id": "mdGGWP56HwVm",
    "outputId": "f5cf91b3-5de1-4bb8-f4ea-88662c2003c2"
   },
   "outputs": [
    {
     "data": {
      "image/png": "[encoded data removed]",
      "text/plain": [
       "<Figure size 432x288 with 2 Axes>"
      ]
     },
     "metadata": {
      "needs_background": "light",
      "tags": []
     },
     "output_type": "display_data"
    }
   ],
   "source": [
    "class_labels = ['akiec', 'bcc', 'bkl', 'df', 'nv', 'vasc','mel']\n",
    "plot_confusion_matrix(confusion_mtx, class_labels)"
   ]
  },
  {
   "cell_type": "code",
   "execution_count": null,
   "metadata": {
    "id": "B4IRREktHywV"
   },
   "outputs": [],
   "source": [
    "FP = confusion_mtx.sum(axis=0) - np.diag(confusion_mtx)  \n",
    "FN = confusion_mtx.sum(axis=1) - np.diag(confusion_mtx)\n",
    "TP = np.diag(confusion_mtx)\n",
    "TN = confusion_mtx.sum() - (FP + FN + TP)\n",
    "\n",
    "Sensitivity = TP/(TP+FN)\n",
    "Specificity = TN/(TN+FP)\n",
    "PPV = TP/(TP+FP)\n",
    "NPV = TN/(TN+FN)\n",
    "\n",
    "ACC = (TP+TN)/(TP+FP+FN+TN)"
   ]
  },
  {
   "cell_type": "code",
   "execution_count": 40,
   "metadata": {
    "colab": {
     "base_uri": "https://localhost:8080/",
     "height": 266
    },
    "id": "9AvFJ98KHzkk",
    "outputId": "174dbc4e-526c-4a6e-ccf4-711f9879499d"
   },
   "outputs": [
    {
     "data": {
      "text/html": [
       "<div>\n",
       "<style scoped>\n",
       "    .dataframe tbody tr th:only-of-type {\n",
       "        vertical-align: middle;\n",
       "    }\n",
       "\n",
       "    .dataframe tbody tr th {\n",
       "        vertical-align: top;\n",
       "    }\n",
       "\n",
       "    .dataframe thead th {\n",
       "        text-align: right;\n",
       "    }\n",
       "</style>\n",
       "<table border=\"1\" class=\"dataframe\">\n",
       "  <thead>\n",
       "    <tr style=\"text-align: right;\">\n",
       "      <th></th>\n",
       "      <th>TP</th>\n",
       "      <th>TN</th>\n",
       "      <th>FP</th>\n",
       "      <th>FN</th>\n",
       "      <th>Sensitivity</th>\n",
       "      <th>Specificity</th>\n",
       "      <th>PPV</th>\n",
       "      <th>NPV</th>\n",
       "      <th>ACC</th>\n",
       "    </tr>\n",
       "  </thead>\n",
       "  <tbody>\n",
       "    <tr>\n",
       "      <th>akiec</th>\n",
       "      <td>14</td>\n",
       "      <td>828</td>\n",
       "      <td>4</td>\n",
       "      <td>6</td>\n",
       "      <td>0.700</td>\n",
       "      <td>0.995</td>\n",
       "      <td>0.778</td>\n",
       "      <td>0.993</td>\n",
       "      <td>0.988</td>\n",
       "    </tr>\n",
       "    <tr>\n",
       "      <th>bcc</th>\n",
       "      <td>42</td>\n",
       "      <td>801</td>\n",
       "      <td>6</td>\n",
       "      <td>3</td>\n",
       "      <td>0.933</td>\n",
       "      <td>0.993</td>\n",
       "      <td>0.875</td>\n",
       "      <td>0.996</td>\n",
       "      <td>0.989</td>\n",
       "    </tr>\n",
       "    <tr>\n",
       "      <th>bkl</th>\n",
       "      <td>65</td>\n",
       "      <td>757</td>\n",
       "      <td>12</td>\n",
       "      <td>18</td>\n",
       "      <td>0.783</td>\n",
       "      <td>0.984</td>\n",
       "      <td>0.844</td>\n",
       "      <td>0.977</td>\n",
       "      <td>0.965</td>\n",
       "    </tr>\n",
       "    <tr>\n",
       "      <th>df</th>\n",
       "      <td>0</td>\n",
       "      <td>843</td>\n",
       "      <td>0</td>\n",
       "      <td>9</td>\n",
       "      <td>0.000</td>\n",
       "      <td>1.000</td>\n",
       "      <td>NaN</td>\n",
       "      <td>0.989</td>\n",
       "      <td>0.989</td>\n",
       "    </tr>\n",
       "    <tr>\n",
       "      <th>nv</th>\n",
       "      <td>79</td>\n",
       "      <td>741</td>\n",
       "      <td>10</td>\n",
       "      <td>22</td>\n",
       "      <td>0.782</td>\n",
       "      <td>0.987</td>\n",
       "      <td>0.888</td>\n",
       "      <td>0.971</td>\n",
       "      <td>0.962</td>\n",
       "    </tr>\n",
       "    <tr>\n",
       "      <th>mel</th>\n",
       "      <td>569</td>\n",
       "      <td>236</td>\n",
       "      <td>37</td>\n",
       "      <td>10</td>\n",
       "      <td>0.983</td>\n",
       "      <td>0.864</td>\n",
       "      <td>0.939</td>\n",
       "      <td>0.959</td>\n",
       "      <td>0.945</td>\n",
       "    </tr>\n",
       "    <tr>\n",
       "      <th>vasc</th>\n",
       "      <td>12</td>\n",
       "      <td>835</td>\n",
       "      <td>2</td>\n",
       "      <td>3</td>\n",
       "      <td>0.800</td>\n",
       "      <td>0.998</td>\n",
       "      <td>0.857</td>\n",
       "      <td>0.996</td>\n",
       "      <td>0.994</td>\n",
       "    </tr>\n",
       "  </tbody>\n",
       "</table>\n",
       "</div>"
      ],
      "text/plain": [
       "        TP   TN  FP  FN  Sensitivity  Specificity    PPV    NPV    ACC\n",
       "akiec   14  828   4   6        0.700        0.995  0.778  0.993  0.988\n",
       "bcc     42  801   6   3        0.933        0.993  0.875  0.996  0.989\n",
       "bkl     65  757  12  18        0.783        0.984  0.844  0.977  0.965\n",
       "df       0  843   0   9        0.000        1.000    NaN  0.989  0.989\n",
       "nv      79  741  10  22        0.782        0.987  0.888  0.971  0.962\n",
       "mel    569  236  37  10        0.983        0.864  0.939  0.959  0.945\n",
       "vasc    12  835   2   3        0.800        0.998  0.857  0.996  0.994"
      ]
     },
     "execution_count": 40,
     "metadata": {
      "tags": []
     },
     "output_type": "execute_result"
    }
   ],
   "source": [
    "columns = ['TP', 'TN', 'FP', 'FN', 'Sensitivity', 'Specificity', 'PPV', 'NPV', 'ACC']\n",
    "performance_metrics = pd.DataFrame(list(zip(TP, TN, FP, FN, Sensitivity, Specificity, PPV, NPV, ACC)), \n",
    "                  columns=columns,\n",
    "                  index=class_labels) \n",
    "performance_metrics.round(3)"
   ]
  }
 ],
 "metadata": {
  "accelerator": "GPU",
  "colab": {
   "name": "Skin Lesion Analyzer with Deep Learning.ipynb",
   "provenance": []
  },
  "kernelspec": {
   "display_name": "Python 3",
   "language": "python",
   "name": "python3"
  },
  "language_info": {
   "codemirror_mode": {
    "name": "ipython",
    "version": 3
   },
   "file_extension": ".py",
   "mimetype": "text/x-python",
   "name": "python",
   "nbconvert_exporter": "python",
   "pygments_lexer": "ipython3",
   "version": "3.7.6"
  }
 },
 "nbformat": 4,
 "nbformat_minor": 1
}
